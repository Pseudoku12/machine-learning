{
 "cells": [
  {
   "cell_type": "code",
   "execution_count": 2,
   "metadata": {},
   "outputs": [],
   "source": [
    "import os\n",
    "\n",
    "mingw_path = 'C:\\\\Program Files\\\\mingw-w64\\\\x86_64-5.3.0-posix-seh-rt_v4-rev0\\\\mingw64\\\\bin'\n",
    "os.environ['PATH'] = mingw_path + ';' + os.environ['PATH']\n",
    "\n",
    "import xgboost as xgb"
   ]
  },
  {
   "cell_type": "code",
   "execution_count": 4,
   "metadata": {},
   "outputs": [],
   "source": [
    "import pandas as pd\n",
    "import numpy as np\n",
    "from sklearn.model_selection import train_test_split\n",
    "import scipy"
   ]
  },
  {
   "cell_type": "code",
   "execution_count": 73,
   "metadata": {},
   "outputs": [],
   "source": [
    "# datapath = location of the folder that contain iris-raw.txt\n",
    "datapath = ______________\n",
    "\n",
    "dataset = pd.read_csv(datapath+'iris-raw.txt')\n",
    "\n",
    "newdataset=dataset\n",
    "newdataset['CL']=dataset.CL.astype('category').cat.codes\n",
    "X, y = newdataset.iloc[:,:-2], newdataset['CL']\n",
    "X_train, X_test, y_train, y_test = train_test_split(X, y, test_size=0.2, random_state=123)\n",
    "\n",
    "dtrain = xgb.DMatrix(X_train,label=y_train)\n",
    "dtest = xgb.DMatrix(X_test,label=y_test)"
   ]
  },
  {
   "cell_type": "code",
   "execution_count": 94,
   "metadata": {},
   "outputs": [],
   "source": [
    "param = {'max_depth':3, 'eta':1, 'silent':1, 'objective':'multi:softmax','num_class':3}"
   ]
  },
  {
   "cell_type": "code",
   "execution_count": 95,
   "metadata": {},
   "outputs": [
    {
     "name": "stdout",
     "output_type": "stream",
     "text": [
      "[0]\teval-merror:0.133333\ttrain-merror:0.041667\n",
      "[1]\teval-merror:0.133333\ttrain-merror:0.041667\n",
      "[2]\teval-merror:0.133333\ttrain-merror:0.033333\n",
      "[3]\teval-merror:0.066667\ttrain-merror:0.025\n",
      "[4]\teval-merror:0.1\ttrain-merror:0.008333\n",
      "[5]\teval-merror:0.1\ttrain-merror:0.008333\n",
      "[6]\teval-merror:0.1\ttrain-merror:0.008333\n",
      "[7]\teval-merror:0.1\ttrain-merror:0.008333\n",
      "[8]\teval-merror:0.1\ttrain-merror:0.008333\n",
      "[9]\teval-merror:0.1\ttrain-merror:0.008333\n"
     ]
    }
   ],
   "source": [
    "watchlist = [(dtest,'eval'),(dtrain,'train')]\n",
    "num_round = 10\n",
    "bst = xgb.train(param, dtrain, num_round, watchlist)"
   ]
  },
  {
   "cell_type": "code",
   "execution_count": 99,
   "metadata": {},
   "outputs": [
    {
     "name": "stdout",
     "output_type": "stream",
     "text": [
      "30\n",
      "[1. 2. 2. 1. 0. 2. 1. 0. 0. 1. 2. 0. 1. 2. 2. 2. 0. 0. 1. 0. 0. 2. 0. 2.\n",
      " 0. 0. 0. 2. 2. 0.]\n",
      "error=0.366667\n"
     ]
    }
   ],
   "source": [
    "preds = bst.predict(dtest)\n",
    "print(preds)\n",
    "labels = dtest.get_label()\n",
    "print(labels)\n",
    "print('error=%f' % (sum(1 for i in range(len(preds)) if int(preds[i] > 0.5) != labels[i]) / float(len(preds))))"
   ]
  }
 ],
 "metadata": {
  "kernelspec": {
   "display_name": "Python 3",
   "language": "python",
   "name": "python3"
  },
  "language_info": {
   "codemirror_mode": {
    "name": "ipython",
    "version": 3
   },
   "file_extension": ".py",
   "mimetype": "text/x-python",
   "name": "python",
   "nbconvert_exporter": "python",
   "pygments_lexer": "ipython3",
   "version": "3.6.5"
  }
 },
 "nbformat": 4,
 "nbformat_minor": 2
}
